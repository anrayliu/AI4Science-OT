{
 "cells": [
  {
   "cell_type": "code",
   "execution_count": 3,
   "metadata": {},
   "outputs": [],
   "source": [
    "import numpy as np\n",
    "import matplotlib.pyplot as plt\n",
    "import tensorflow as tf\n",
    "from tensorflow.keras.layers import Dense, Input, Lambda, Flatten, Conv2D\n",
    "from tensorflow.keras import Model\n",
    "from tensorflow.keras.layers import concatenate\n",
    "from tensorflow.keras.utils import plot_model\n",
    "\n",
    "from cvxpy import partial_trace\n",
    "import ot  \n",
    "import ot.plot\n",
    "%matplotlib inline"
   ]
  },
  {
   "cell_type": "code",
   "execution_count": 4,
   "metadata": {},
   "outputs": [],
   "source": [
    "from mitdeeplearning import util\n",
    "import os\n",
    "import time\n",
    "import functools\n",
    "from IPython import display as ipythondisplay\n",
    "from IPython.display import clear_output\n",
    "from tqdm import tqdm"
   ]
  },
  {
   "cell_type": "code",
   "execution_count": 178,
   "metadata": {},
   "outputs": [],
   "source": [
    "tf.keras.backend.set_floatx('float64')"
   ]
  },
  {
   "cell_type": "code",
   "execution_count": 141,
   "metadata": {},
   "outputs": [],
   "source": [
    "A = tf.constant(np.array([[1, 0],\n",
    "                          [0, 4]])/5, dtype='double')\n",
    "B = tf.constant(np.array([[2, 0], \n",
    "                          [0, 2]])/4, dtype='double')"
   ]
  },
  {
   "cell_type": "code",
   "execution_count": 100,
   "metadata": {},
   "outputs": [],
   "source": [
    "# test cost functions\n",
    "Cost = np.eye(4, dtype='double')"
   ]
  },
  {
   "cell_type": "code",
   "execution_count": 70,
   "metadata": {},
   "outputs": [],
   "source": [
    "@tf.function\n",
    "def kron_op2D(A, B):\n",
    "    shape_A = (A.shape + (1,1,))\n",
    "    shape_B = ((1,1,) + B.shape)\n",
    "    C = tf.reshape(A, shape_A) * tf.reshape(B, shape_B)\n",
    "    C01 = [tf.concat([C[i,0], C[i,1]], axis=1) for i in range(2)]\n",
    "    \n",
    "    C_2D = tf.concat(C01, axis=0)\n",
    "    return C_2D"
   ]
  },
  {
   "cell_type": "code",
   "execution_count": 142,
   "metadata": {},
   "outputs": [
    {
     "data": {
      "text/plain": [
       "<tf.Tensor: id=3213780, shape=(4, 4), dtype=float64, numpy=\n",
       "array([[0.1, 0. , 0. , 0. ],\n",
       "       [0. , 0.1, 0. , 0. ],\n",
       "       [0. , 0. , 0.4, 0. ],\n",
       "       [0. , 0. , 0. , 0.4]])>"
      ]
     },
     "execution_count": 142,
     "metadata": {},
     "output_type": "execute_result"
    }
   ],
   "source": [
    "kron_op2D(A,B)"
   ]
  },
  {
   "cell_type": "code",
   "execution_count": 185,
   "metadata": {},
   "outputs": [],
   "source": [
    "# Neural nerwork architecture\n",
    "class OT_network:\n",
    "    def __init__(self, C, n_marginals, marg_shapes, eps):\n",
    "        self.C = tf.constant(C, dtype='double')\n",
    "        self.eps = eps\n",
    "        self.n_marginals = n_marginals\n",
    "        self.marg_shapes = marg_shapes\n",
    "        self.shapes = ((self.n_marginals,)+marg_shapes)\n",
    "        self.Id = tf.eye(marg_shapes[0], dtype='double')\n",
    "        \n",
    "        self.model = self.build_model()\n",
    "        self.optimizer = tf.keras.optimizers.Adam(learning_rate = 0.01)\n",
    "    \n",
    "    def build_model(self): #model via functional api \n",
    "        input_msrs = Input(shape=self.shapes, name=\"Marginals\", dtype=\"double\") # takes array of marginal measures\n",
    "#         flat_msrs = Flatten(name=\"Marginals_flat\")(input_msrs) # flattens the marginals into 1 array\n",
    "#         log_msrs = Lambda(lambda x: tf.linalg.logm(tf.cast(x, tf.double)), name=\"logM\")(input_msrs) # additional input log\n",
    "#         new_inputs = concatenate([input_msrs, log_msrs], name=\"M_concat_logM\", dtype='double') # makes a new kernel that has MU, log(MU)\n",
    "        \n",
    "        hidden1 = Dense(20, activation='tanh', name=\"hidden1\", kernel_initializer='zeros', dtype='double')(input_msrs) \n",
    "        \n",
    "        output = [Dense(1, name=f\"u{i}\", kernel_initializer='zeros', \n",
    "                         bias_initializer='zeros', dtype='double')(hidden1) for i in range(1, self.n_marginals+1)] # outputs predicted U\n",
    "        \n",
    "        model = Model(inputs=[input_msrs], outputs=output) #stacks all layers together\n",
    "        return model\n",
    "    \n",
    "    @staticmethod\n",
    "    def plot_P(P): # plots estimated Coupling projected on first 2 axes\n",
    "        plt.figure(figsize=(7,7))\n",
    "        plt.imshow(P)\n",
    "        return plt\n",
    "        \n",
    "    def train_step(self, marginals): #optimization step\n",
    "        potentials = self.U_call(marginals)\n",
    "        P = self.predict_P(potentials)\n",
    "        with tf.GradientTape() as tape: #assign loss function\n",
    "            loss = self.loss(marginals)\n",
    "            \n",
    "        grads = tape.gradient(loss, self.model.trainable_variables)\n",
    "        self.optimizer.apply_gradients(zip(grads, self.model.trainable_variables))\n",
    "        return loss, potentials, P\n",
    "        \n",
    "    def fit(self, marginals, epochs=100): # model train\n",
    "        plotter = util.PeriodicPlotter(sec=1, xlabel='Iterations', ylabel='Loss')\n",
    "        error1 = []\n",
    "        error2 = []\n",
    "        if hasattr(tqdm, '_instances'): tqdm._instances.clear() # clear if it exists\n",
    "\n",
    "        for iter in tqdm(range(epochs)):\n",
    "            loss, potentials, P = self.train_step(marginals)\n",
    "            e1, e2 = self.check_errors(P, marginals)\n",
    "            error1.append(e1[0])\n",
    "            error2.append(e2[0])\n",
    "            clear_output(wait=True)\n",
    "#             print(e1, e2)\n",
    "#             print(np.abs(P[0].numpy()- np.kron(marginals[0,:,:,0], marginals[0,:,:,1])))\n",
    "            fig = self.plot_P(P[0].numpy())\n",
    "#             fig.savefig(f\"C2\\\\dnn\\\\N={self.n_marginals}\\\\{iter}.png\")\n",
    "            fig.show()\n",
    "        plt.figure()\n",
    "        plt.plot(error1)\n",
    "        plt.plot(error2)\n",
    "        plt.title('errors')\n",
    "\n",
    "        \n",
    "        return potentials, P\n",
    "    \n",
    "    def U_call(self, marginals): #estimate u_1, ..., u_n-1 \n",
    "        prediction = self.model.call({\"Marginals\": tf.Variable(marginals)})   \n",
    "        return prediction if type(prediction)== list else [prediction] \n",
    "    \n",
    "    def call(self, marginals): # predict P(marginals)\n",
    "        potentials = self.U_call(marginals)\n",
    "        return self.predict_P(potentials).numpy()\n",
    "    \n",
    "    def dual(self, marginals): # entropic dual functional for sample\n",
    "        U = self.U_call(marginals)\n",
    "        P = self.predict_P(U)\n",
    "        D = tf.concat([- self.eps*tf.linalg.trace(p) for p in P], axis=0)\n",
    "        for i, u in enumerate(U):\n",
    "            D += tf.concat([tf.reduce_sum(u[k][:,:,0]*m[:,:,i], axis=1) for k, m in enumerate(marginals)], axis=0)\n",
    "        return D \n",
    "\n",
    "    def loss(self, marginals):\n",
    "        return -tf.reduce_sum(self.dual(marginals))\n",
    "    \n",
    "    def predict_P(self, potentials): # estimate P(potentials)\n",
    "        # FOR N=2!!!!!!!!!\n",
    "        l = self.marg_shapes[0]\n",
    "        U, V = potentials\n",
    "        P_samples = []\n",
    "        for i, _ in enumerate(U):\n",
    "            U_ext = kron_op2D(U[i,:,:,0], self.Id)\n",
    "            V_ext = kron_op2D(self.Id, V[i,:,:,0])\n",
    "#             U_ext = tf.concat([kron_op2D(u[:,:,0], self.Id) for u in U], axis=0) \n",
    "#             V_ext = tf.concat([kron_op2D(self.Id, v[:,:,0]) for v in V], axis=0) \n",
    "            P = tf.linalg.expm((U_ext + V_ext - self.C)/self.eps)\n",
    "            P_samples.append(P)\n",
    "        print(P_samples)\n",
    "        return P_samples\n",
    "    \n",
    "    def check_errors(self, P, marginals):\n",
    "        # FOR N=2!!!!!!!!!\n",
    "        e1 = []\n",
    "        e2 = []\n",
    "        for i, p in enumerate(P):\n",
    "            m1 = partial_trace(p, self.marg_shapes, 1).value\n",
    "            e1.append(np.max(np.abs(m1 -marginals[i,:,:,0])))\n",
    "            m2 = partial_trace(p, self.marg_shapes, 0).value\n",
    "            e2.append(np.max(np.abs(m1- marginals[i,:,:,1])))\n",
    "            \n",
    "        return e1, e2\n",
    "    \n",
    "    @property\n",
    "    def plot_model(self): #plots the netrork structure\n",
    "        return plot_model(self.model, show_shapes=True)\n",
    "    \n",
    "    @staticmethod\n",
    "    def plot_cost(C): # plots Cost tensor projected on first 2 axes\n",
    "        plt.figure(figsize=(7,7))\n",
    "        plt.imshow(C.sum(axis=tuple([i for i in range(2, len(C.shape))])))\n",
    "        plt.title(\"Cost function\")\n",
    "        return plt.show()\n",
    "        \n",
    "        "
   ]
  },
  {
   "cell_type": "code",
   "execution_count": 186,
   "metadata": {},
   "outputs": [
    {
     "data": {
      "image/png": "[encoded data removed]",
      "text/plain": [
       "<IPython.core.display.Image object>"
      ]
     },
     "execution_count": 186,
     "metadata": {},
     "output_type": "execute_result"
    }
   ],
   "source": [
    "net = OT_network(Cost, 2, (2, 2), 0.01)\n",
    "net.plot_model"
   ]
  },
  {
   "cell_type": "code",
   "execution_count": 187,
   "metadata": {},
   "outputs": [
    {
     "data": {
      "image/png": "[encoded data removed]",
      "text/plain": [
       "<Figure size 504x504 with 1 Axes>"
      ]
     },
     "metadata": {
      "needs_background": "light"
     },
     "output_type": "display_data"
    },
    {
     "name": "stderr",
     "output_type": "stream",
     "text": [
      "100%|████████████████████████████████████████████████████████████████████████████████| 200/200 [01:23<00:00,  2.39it/s]\n"
     ]
    },
    {
     "data": {
      "image/png": "[encoded data removed]",
      "text/plain": [
       "<Figure size 432x288 with 1 Axes>"
      ]
     },
     "metadata": {
      "needs_background": "light"
     },
     "output_type": "display_data"
    }
   ],
   "source": [
    "potentials, P = net.fit(np.array([np.stack([A, B])]), epochs=200)\n",
    "# print(np.abs(P[0]- np.kron(A, B)))"
   ]
  },
  {
   "cell_type": "code",
   "execution_count": 188,
   "metadata": {},
   "outputs": [
    {
     "data": {
      "text/plain": [
       "<tf.Tensor: id=5117034, shape=(4, 4), dtype=float64, numpy=\n",
       "array([[0.06234087, 0.06234087, 0.06228762, 0.06228762],\n",
       "       [0.06234087, 0.06234087, 0.06228762, 0.06228762],\n",
       "       [0.06228762, 0.06228762, 0.06234087, 0.06234087],\n",
       "       [0.06228762, 0.06228762, 0.06234087, 0.06234087]])>"
      ]
     },
     "execution_count": 188,
     "metadata": {},
     "output_type": "execute_result"
    }
   ],
   "source": [
    "P[0]"
   ]
  },
  {
   "cell_type": "code",
   "execution_count": 189,
   "metadata": {},
   "outputs": [
    {
     "data": {
      "text/plain": [
       "<matplotlib.image.AxesImage at 0x1ea91c46b48>"
      ]
     },
     "execution_count": 189,
     "metadata": {},
     "output_type": "execute_result"
    },
    {
     "data": {
      "image/png": "[encoded data removed]",
      "text/plain": [
       "<Figure size 432x288 with 1 Axes>"
      ]
     },
     "metadata": {
      "needs_background": "light"
     },
     "output_type": "display_data"
    }
   ],
   "source": [
    "plt.imshow(np.kron(A,B))"
   ]
  },
  {
   "cell_type": "code",
   "execution_count": 11,
   "metadata": {},
   "outputs": [
    {
     "data": {
      "text/plain": [
       "array([[[1, 1, 2, 2],\n",
       "        [1, 1, 2, 2],\n",
       "        [3, 3, 4, 4],\n",
       "        [3, 3, 4, 4]]])"
      ]
     },
     "execution_count": 11,
     "metadata": {},
     "output_type": "execute_result"
    }
   ],
   "source": [
    "A = tf.constant(np.array([np.ones((2,2))]), dtype='int32')\n",
    "B = tf.constant(np.array([[1,2],[3,4]]), dtype='int32')\n",
    "prod = np.kron(tf.constant(B), tf.constant(A))\n",
    "prod"
   ]
  },
  {
   "cell_type": "code",
   "execution_count": 8,
   "metadata": {},
   "outputs": [],
   "source": [
    "pprod = np.kron(prod, A)"
   ]
  },
  {
   "cell_type": "code",
   "execution_count": 9,
   "metadata": {},
   "outputs": [
    {
     "data": {
      "text/plain": [
       "array([[[1., 1., 1., 1., 2., 2., 2., 2.],\n",
       "        [1., 1., 1., 1., 2., 2., 2., 2.],\n",
       "        [1., 1., 1., 1., 2., 2., 2., 2.],\n",
       "        [1., 1., 1., 1., 2., 2., 2., 2.],\n",
       "        [3., 3., 3., 3., 4., 4., 4., 4.],\n",
       "        [3., 3., 3., 3., 4., 4., 4., 4.],\n",
       "        [3., 3., 3., 3., 4., 4., 4., 4.],\n",
       "        [3., 3., 3., 3., 4., 4., 4., 4.]]])"
      ]
     },
     "execution_count": 9,
     "metadata": {},
     "output_type": "execute_result"
    }
   ],
   "source": [
    "pprod"
   ]
  },
  {
   "cell_type": "code",
   "execution_count": 66,
   "metadata": {},
   "outputs": [],
   "source": [
    "C = tf.reshape(B, (2,2,1,1))* tf.reshape(A, (1,1,2,2))"
   ]
  },
  {
   "cell_type": "code",
   "execution_count": 67,
   "metadata": {},
   "outputs": [
    {
     "data": {
      "text/plain": [
       "<tf.Tensor: id=1988, shape=(4, 4), dtype=float64, numpy=\n",
       "array([[0.1 , 0.2 , 0.15, 0.3 ],\n",
       "       [0.2 , 0.4 , 0.3 , 0.6 ],\n",
       "       [0.15, 0.3 , 0.1 , 0.2 ],\n",
       "       [0.3 , 0.6 , 0.2 , 0.4 ]])>"
      ]
     },
     "execution_count": 67,
     "metadata": {},
     "output_type": "execute_result"
    }
   ],
   "source": [
    "C12 = [tf.concat([C[i,0], C[i,1]], axis=1) for i in range(2)]\n",
    "tf.concat(C12, axis=0)"
   ]
  },
  {
   "cell_type": "code",
   "execution_count": 200,
   "metadata": {},
   "outputs": [],
   "source": [
    "C = B[:,:,None, None]*A[0][None,None, :, :]\n",
    "# C.sum(axis=(0,1))"
   ]
  },
  {
   "cell_type": "code",
   "execution_count": 218,
   "metadata": {},
   "outputs": [
    {
     "data": {
      "text/plain": [
       "<tf.Tensor: id=2592, shape=(2, 2, 2), dtype=float64, numpy=\n",
       "array([[[1., 1.],\n",
       "        [1., 1.]],\n",
       "\n",
       "       [[2., 2.],\n",
       "        [2., 2.]]])>"
      ]
     },
     "execution_count": 218,
     "metadata": {},
     "output_type": "execute_result"
    }
   ],
   "source": [
    "tf.concat(C[0], axis=1)"
   ]
  },
  {
   "cell_type": "code",
   "execution_count": 199,
   "metadata": {},
   "outputs": [
    {
     "data": {
      "text/plain": [
       "[<tf.Tensor: id=2558, shape=(2, 2, 2), dtype=float64, numpy=\n",
       " array([[[1., 1.],\n",
       "         [1., 1.]],\n",
       " \n",
       "        [[2., 2.],\n",
       "         [2., 2.]]])>,\n",
       " <tf.Tensor: id=2560, shape=(2, 2, 2), dtype=float64, numpy=\n",
       " array([[[3., 3.],\n",
       "         [3., 3.]],\n",
       " \n",
       "        [[4., 4.],\n",
       "         [4., 4.]]])>]"
      ]
     },
     "execution_count": 199,
     "metadata": {},
     "output_type": "execute_result"
    }
   ],
   "source": [
    "[tf.concat([c], axis=1) for c in C]"
   ]
  },
  {
   "cell_type": "code",
   "execution_count": 38,
   "metadata": {},
   "outputs": [],
   "source": [
    "[[[[1., 1.],\n",
    "   [1., 1.]],\n",
    "\n",
    "  [[2., 2.],\n",
    "   [2., 2.]]],\n",
    "\n",
    "\n",
    " [[[3., 3.],\n",
    "   [3., 3.]],\n",
    "\n",
    "  [[4., 4.],\n",
    "   [4., 4.]]]]"
   ]
  },
  {
   "cell_type": "code",
   "execution_count": 43,
   "metadata": {},
   "outputs": [
    {
     "data": {
      "text/plain": [
       "array([[1, 1, 1, 1],\n",
       "       [2, 2, 2, 2],\n",
       "       [3, 3, 3, 3],\n",
       "       [4, 4, 4, 4]])"
      ]
     },
     "execution_count": 43,
     "metadata": {},
     "output_type": "execute_result"
    }
   ],
   "source": [
    "np.reshape(C, (4,4), order='C')"
   ]
  },
  {
   "cell_type": "code",
   "execution_count": 55,
   "metadata": {},
   "outputs": [
    {
     "data": {
      "text/plain": [
       "(1, 2, 3)"
      ]
     },
     "execution_count": 55,
     "metadata": {},
     "output_type": "execute_result"
    }
   ],
   "source": [
    "((1,2,)+(3,))"
   ]
  },
  {
   "cell_type": "code",
   "execution_count": 63,
   "metadata": {},
   "outputs": [],
   "source": [
    "from cvxpy import partial_trace"
   ]
  },
  {
   "cell_type": "code",
   "execution_count": 79,
   "metadata": {},
   "outputs": [],
   "source": [
    "from scipy.linalg import expm"
   ]
  },
  {
   "cell_type": "code",
   "execution_count": 65,
   "metadata": {},
   "outputs": [],
   "source": [
    "partial_trace?"
   ]
  },
  {
   "cell_type": "code",
   "execution_count": null,
   "metadata": {},
   "outputs": [],
   "source": [
    "def partial_traces(coupling, mrg_shape, n_mrgnls):\n",
    "    r\"\"\"Calculate the partial traces of the coupling matrix.\n",
    "\n",
    "    Parameters\n",
    "    ----------\n",
    "    coupling : numpy.ndarray\n",
    "        Coupling matrix\n",
    "    mrg_shape: tuple\n",
    "        Size of any marginals, assuming all of them are the same size\n",
    "    n_mrgnls : int\n",
    "        Number of marginals\n",
    "\n",
    "    Returns\n",
    "    -------\n",
    "    list of numpy.ndarray\n",
    "        List of partial traces\n",
    "    \"\"\"\n",
    "    calc_marginals = []\n",
    "    # looping over the skip index in the partial trace\n",
    "    for trace_skip_ind in range(n_mrgnls):\n",
    "        # initialize the calculated marginal with the coupling matrix\n",
    "        calc_marginal = coupling\n",
    "        tmp_shape = tuple(mrg_shape[0] for i in range(n_mrgnls))\n",
    "\n",
    "        # tracing away all other subsystems:\n",
    "        # $$A_i\\approx\\text{Tr}_1\\text{Tr}_2...\\text{Tr}_{i-1}\\text{Tr}_{i+1}...\\text{Tr}_n P$$\n",
    "        # where P is the coupling matrix\n",
    "        for ind in range(n_mrgnls - 1, -1, -1):\n",
    "            if ind != trace_skip_ind:\n",
    "                calc_marginal = partial_trace(calc_marginal, tmp_shape, ind).value\n",
    "                tmp_shape = tmp_shape[:-1]\n",
    "                # print(tmp_mrg_shape)\n",
    "        calc_marginals.append(calc_marginal)\n",
    "    return np.array(calc_marginals)"
   ]
  },
  {
   "cell_type": "code",
   "execution_count": 97,
   "metadata": {
    "scrolled": true
   },
   "outputs": [
    {
     "data": {
      "image/png": "[encoded data removed]",
      "text/plain": [
       "<Figure size 504x504 with 1 Axes>"
      ]
     },
     "metadata": {
      "needs_background": "light"
     },
     "output_type": "display_data"
    }
   ],
   "source": [
    "def plotter():\n",
    "    plt.figure(figsize=(7,7))\n",
    "    plt.imshow(prod)\n",
    "    return plt\n",
    "\n",
    "fig = plotter()\n",
    "fig.savefig(\"test.png\")"
   ]
  },
  {
   "cell_type": "code",
   "execution_count": 101,
   "metadata": {},
   "outputs": [
    {
     "data": {
      "text/plain": [
       "<tf.Tensor: id=322, shape=(), dtype=float64, numpy=4.0>"
      ]
     },
     "execution_count": 101,
     "metadata": {},
     "output_type": "execute_result"
    }
   ],
   "source": [
    "tf.reduce_max(prod)"
   ]
  },
  {
   "cell_type": "code",
   "execution_count": 142,
   "metadata": {},
   "outputs": [
    {
     "data": {
      "text/plain": [
       "array([[1., 1.],\n",
       "       [1., 1.]])"
      ]
     },
     "execution_count": 142,
     "metadata": {},
     "output_type": "execute_result"
    }
   ],
   "source": [
    " A[0]"
   ]
  },
  {
   "cell_type": "code",
   "execution_count": 145,
   "metadata": {},
   "outputs": [
    {
     "data": {
      "text/plain": [
       "array([[1],\n",
       "       [2],\n",
       "       [3],\n",
       "       [4]])"
      ]
     },
     "execution_count": 145,
     "metadata": {},
     "output_type": "execute_result"
    }
   ],
   "source": [
    "np.reshape(B, (4,1))"
   ]
  },
  {
   "cell_type": "code",
   "execution_count": 150,
   "metadata": {},
   "outputs": [
    {
     "data": {
      "text/plain": [
       "array([[[[1., 2.],\n",
       "         [3., 4.]]]])"
      ]
     },
     "execution_count": 150,
     "metadata": {},
     "output_type": "execute_result"
    }
   ],
   "source": [
    "np.reshape(B, (1, 1, 2, 2))*A[0]"
   ]
  },
  {
   "cell_type": "code",
   "execution_count": 181,
   "metadata": {},
   "outputs": [
    {
     "data": {
      "text/plain": [
       "array([[[[1., 1.],\n",
       "         [1., 1.]],\n",
       "\n",
       "        [[2., 2.],\n",
       "         [2., 2.]]],\n",
       "\n",
       "\n",
       "       [[[3., 3.],\n",
       "         [3., 3.]],\n",
       "\n",
       "        [[4., 4.],\n",
       "         [4., 4.]]]])"
      ]
     },
     "execution_count": 181,
     "metadata": {},
     "output_type": "execute_result"
    }
   ],
   "source": [
    "np.stack([tf.concat([bb*A for bb in b], axis=0) for b in B])"
   ]
  },
  {
   "cell_type": "code",
   "execution_count": 158,
   "metadata": {},
   "outputs": [
    {
     "data": {
      "text/plain": [
       "array([[1., 1.],\n",
       "       [1., 1.]])"
      ]
     },
     "execution_count": 158,
     "metadata": {},
     "output_type": "execute_result"
    }
   ],
   "source": [
    "A[0]"
   ]
  },
  {
   "cell_type": "code",
   "execution_count": 175,
   "metadata": {},
   "outputs": [
    {
     "ename": "ValueError",
     "evalue": "operands could not be broadcast together with shapes (4,1) (2,2) ",
     "output_type": "error",
     "traceback": [
      "\u001b[1;31m---------------------------------------------------------------------------\u001b[0m",
      "\u001b[1;31mValueError\u001b[0m                                Traceback (most recent call last)",
      "\u001b[1;32m<ipython-input-175-114e8439b668>\u001b[0m in \u001b[0;36m<module>\u001b[1;34m\u001b[0m\n\u001b[1;32m----> 1\u001b[1;33m \u001b[0mnp\u001b[0m\u001b[1;33m.\u001b[0m\u001b[0marray\u001b[0m\u001b[1;33m(\u001b[0m\u001b[1;33m[\u001b[0m\u001b[1;33m[\u001b[0m\u001b[1;36m1\u001b[0m\u001b[1;33m]\u001b[0m\u001b[1;33m,\u001b[0m \u001b[1;33m[\u001b[0m\u001b[1;36m1\u001b[0m\u001b[1;33m]\u001b[0m\u001b[1;33m,\u001b[0m \u001b[1;33m[\u001b[0m\u001b[1;36m2\u001b[0m\u001b[1;33m]\u001b[0m\u001b[1;33m,\u001b[0m \u001b[1;33m[\u001b[0m\u001b[1;36m2\u001b[0m\u001b[1;33m]\u001b[0m\u001b[1;33m]\u001b[0m\u001b[1;33m)\u001b[0m\u001b[1;33m*\u001b[0m\u001b[0mA\u001b[0m\u001b[1;33m[\u001b[0m\u001b[1;36m0\u001b[0m\u001b[1;33m]\u001b[0m\u001b[1;33m\u001b[0m\u001b[1;33m\u001b[0m\u001b[0m\n\u001b[0m",
      "\u001b[1;31mValueError\u001b[0m: operands could not be broadcast together with shapes (4,1) (2,2) "
     ]
    }
   ],
   "source": [
    "np.array([[1], [1], [2], [2]])*A[0]"
   ]
  },
  {
   "cell_type": "code",
   "execution_count": 177,
   "metadata": {},
   "outputs": [
    {
     "data": {
      "text/plain": [
       "array([[[1., 1., 1., 1.],\n",
       "        [1., 1., 1., 1.]]])"
      ]
     },
     "execution_count": 177,
     "metadata": {},
     "output_type": "execute_result"
    }
   ],
   "source": [
    "np.c_[A,A]"
   ]
  },
  {
   "cell_type": "code",
   "execution_count": 191,
   "metadata": {},
   "outputs": [
    {
     "data": {
      "text/plain": [
       "TensorShape([2, 2, 2, 2])"
      ]
     },
     "execution_count": 191,
     "metadata": {},
     "output_type": "execute_result"
    }
   ],
   "source": [
    "(tf.reshape(tf.constant(B , dtype='int32'), (2,2,1,1))*tf.reshape(tf.constant(A[0], dtype='int32'), (1,1,2,2))).shape"
   ]
  },
  {
   "cell_type": "code",
   "execution_count": 21,
   "metadata": {},
   "outputs": [
    {
     "data": {
      "text/plain": [
       "<tf.Tensor: id=103, shape=(2, 2), dtype=float32, numpy=\n",
       "array([[1., 0.],\n",
       "       [0., 1.]], dtype=float32)>"
      ]
     },
     "execution_count": 21,
     "metadata": {},
     "output_type": "execute_result"
    }
   ],
   "source": [
    "tf.eye(2)"
   ]
  },
  {
   "cell_type": "code",
   "execution_count": null,
   "metadata": {},
   "outputs": [],
   "source": []
  }
 ],
 "metadata": {
  "kernelspec": {
   "display_name": "Python 3",
   "language": "python",
   "name": "python3"
  },
  "language_info": {
   "codemirror_mode": {
    "name": "ipython",
    "version": 3
   },
   "file_extension": ".py",
   "mimetype": "text/x-python",
   "name": "python",
   "nbconvert_exporter": "python",
   "pygments_lexer": "ipython3",
   "version": "3.7.4"
  }
 },
 "nbformat": 4,
 "nbformat_minor": 2
}
